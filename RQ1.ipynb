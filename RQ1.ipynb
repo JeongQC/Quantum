{
 "cells": [
  {
   "cell_type": "code",
   "execution_count": 3,
   "id": "59c60fc5-6f46-4c91-82d7-9c1c7958244d",
   "metadata": {},
   "outputs": [
    {
     "name": "stdout",
     "output_type": "stream",
     "text": [
      "[19:02:39] WARNING: DWAVE_API_TOKEN not set; CliqueSampler may fail to auth.\n",
      "[19:02:41] [L_max] 104  |  [L_list] [5, 10, 15, 20, 25, 30, 35, 40, 45, 50, 55, 60, 65, 70, 75, 80, 85, 90, 95, 100] (step=5)\n",
      "[19:02:41] WARNING: DWAVE_API_TOKEN not set; DWaveSampler may fail to auth.\n"
     ]
    },
    {
     "name": "stderr",
     "output_type": "stream",
     "text": [
      "Clique-embedding (length only):   0%|                                                           | 0/20 [00:00<?, ?it/s]"
     ]
    },
    {
     "name": "stdout",
     "output_type": "stream",
     "text": [
      "[19:02:42] [ChainLen] L=5 meanCL=1.200 maxCL=2 (chains=5)\n",
      "[19:02:42] [ChainLen] L=10 meanCL=1.700 maxCL=2 (chains=10)\n"
     ]
    },
    {
     "name": "stderr",
     "output_type": "stream",
     "text": [
      "Clique-embedding (length only):  10%|█████                                              | 2/20 [00:00<00:01, 12.21it/s]"
     ]
    },
    {
     "name": "stdout",
     "output_type": "stream",
     "text": [
      "[19:02:43] [ChainLen] L=15 meanCL=2.000 maxCL=3 (chains=15)\n",
      "[19:02:43] [ChainLen] L=20 meanCL=2.500 maxCL=3 (chains=20)\n"
     ]
    },
    {
     "name": "stderr",
     "output_type": "stream",
     "text": [
      "Clique-embedding (length only):  20%|██████████▏                                        | 4/20 [00:00<00:02,  7.08it/s]"
     ]
    },
    {
     "name": "stdout",
     "output_type": "stream",
     "text": [
      "[19:02:44] [ChainLen] L=25 meanCL=2.680 maxCL=3 (chains=25)\n"
     ]
    },
    {
     "name": "stderr",
     "output_type": "stream",
     "text": [
      "Clique-embedding (length only):  25%|████████████▊                                      | 5/20 [00:01<00:05,  2.83it/s]"
     ]
    },
    {
     "name": "stdout",
     "output_type": "stream",
     "text": [
      "[19:02:45] [ChainLen] L=30 meanCL=3.467 maxCL=4 (chains=30)\n"
     ]
    },
    {
     "name": "stderr",
     "output_type": "stream",
     "text": [
      "Clique-embedding (length only):  30%|███████████████▎                                   | 6/20 [00:02<00:08,  1.64it/s]"
     ]
    },
    {
     "name": "stdout",
     "output_type": "stream",
     "text": [
      "[19:02:47] [ChainLen] L=35 meanCL=3.829 maxCL=5 (chains=35)\n"
     ]
    },
    {
     "name": "stderr",
     "output_type": "stream",
     "text": [
      "Clique-embedding (length only):  35%|█████████████████▊                                 | 7/20 [00:04<00:14,  1.11s/it]"
     ]
    },
    {
     "name": "stdout",
     "output_type": "stream",
     "text": [
      "[19:02:49] [ChainLen] L=40 meanCL=4.850 maxCL=7 (chains=40)\n"
     ]
    },
    {
     "name": "stderr",
     "output_type": "stream",
     "text": [
      "Clique-embedding (length only):  40%|████████████████████▍                              | 8/20 [00:06<00:16,  1.37s/it]"
     ]
    },
    {
     "name": "stdout",
     "output_type": "stream",
     "text": [
      "[19:02:52] [ChainLen] L=45 meanCL=5.022 maxCL=8 (chains=45)\n"
     ]
    },
    {
     "name": "stderr",
     "output_type": "stream",
     "text": [
      "Clique-embedding (length only):  45%|██████████████████████▉                            | 9/20 [00:09<00:20,  1.89s/it]"
     ]
    },
    {
     "name": "stdout",
     "output_type": "stream",
     "text": [
      "[19:02:58] [ChainLen] L=50 meanCL=6.060 maxCL=9 (chains=50)\n"
     ]
    },
    {
     "name": "stderr",
     "output_type": "stream",
     "text": [
      "Clique-embedding (length only):  50%|█████████████████████████                         | 10/20 [00:15<00:29,  2.98s/it]"
     ]
    },
    {
     "name": "stdout",
     "output_type": "stream",
     "text": [
      "[19:03:03] [ChainLen] L=55 meanCL=6.945 maxCL=11 (chains=55)\n"
     ]
    },
    {
     "name": "stderr",
     "output_type": "stream",
     "text": [
      "Clique-embedding (length only):  55%|███████████████████████████▌                      | 11/20 [00:20<00:33,  3.69s/it]"
     ]
    },
    {
     "name": "stdout",
     "output_type": "stream",
     "text": [
      "[19:03:17] [ChainLen] L=60 meanCL=7.033 maxCL=10 (chains=60)\n"
     ]
    },
    {
     "name": "stderr",
     "output_type": "stream",
     "text": [
      "Clique-embedding (length only):  60%|██████████████████████████████                    | 12/20 [00:34<00:54,  6.78s/it]"
     ]
    },
    {
     "name": "stdout",
     "output_type": "stream",
     "text": [
      "[19:03:32] [ChainLen] L=65 meanCL=7.492 maxCL=11 (chains=65)\n"
     ]
    },
    {
     "name": "stderr",
     "output_type": "stream",
     "text": [
      "Clique-embedding (length only):  65%|████████████████████████████████▌                 | 13/20 [00:49<01:04,  9.24s/it]"
     ]
    },
    {
     "name": "stdout",
     "output_type": "stream",
     "text": [
      "[19:03:57] [ChainLen] L=70 meanCL=7.957 maxCL=11 (chains=70)\n"
     ]
    },
    {
     "name": "stderr",
     "output_type": "stream",
     "text": [
      "Clique-embedding (length only):  70%|███████████████████████████████████               | 14/20 [01:15<01:24, 14.02s/it]"
     ]
    },
    {
     "name": "stdout",
     "output_type": "stream",
     "text": [
      "[19:04:31] [ChainLen] L=75 meanCL=8.880 maxCL=13 (chains=75)\n"
     ]
    },
    {
     "name": "stderr",
     "output_type": "stream",
     "text": [
      "Clique-embedding (length only):  75%|█████████████████████████████████████▌            | 15/20 [01:48<01:39, 19.83s/it]"
     ]
    },
    {
     "name": "stdout",
     "output_type": "stream",
     "text": [
      "[19:04:56] [ChainLen] L=80 meanCL=9.938 maxCL=15 (chains=80)\n"
     ]
    },
    {
     "name": "stderr",
     "output_type": "stream",
     "text": [
      "Clique-embedding (length only):  80%|████████████████████████████████████████          | 16/20 [02:13<01:25, 21.35s/it]"
     ]
    },
    {
     "name": "stdout",
     "output_type": "stream",
     "text": [
      "[19:05:43] [ChainLen] L=85 meanCL=9.812 maxCL=14 (chains=85)\n"
     ]
    },
    {
     "name": "stderr",
     "output_type": "stream",
     "text": [
      "Clique-embedding (length only):  85%|██████████████████████████████████████████▌       | 17/20 [03:00<01:27, 29.20s/it]"
     ]
    },
    {
     "name": "stdout",
     "output_type": "stream",
     "text": [
      "[19:06:41] [ChainLen] L=90 meanCL=10.356 maxCL=15 (chains=90)\n"
     ]
    },
    {
     "name": "stderr",
     "output_type": "stream",
     "text": [
      "Clique-embedding (length only):  90%|█████████████████████████████████████████████     | 18/20 [03:58<01:15, 37.74s/it]"
     ]
    },
    {
     "name": "stdout",
     "output_type": "stream",
     "text": [
      "[19:07:13] [ChainLen] L=95 meanCL=11.179 maxCL=16 (chains=95)\n"
     ]
    },
    {
     "name": "stderr",
     "output_type": "stream",
     "text": [
      "Clique-embedding (length only):  95%|███████████████████████████████████████████████▌  | 19/20 [04:30<00:35, 35.94s/it]"
     ]
    },
    {
     "name": "stdout",
     "output_type": "stream",
     "text": [
      "[19:08:04] [ChainLen] L=100 meanCL=14.500 maxCL=25 (chains=100)\n"
     ]
    },
    {
     "name": "stderr",
     "output_type": "stream",
     "text": [
      "Clique-embedding (length only): 100%|██████████████████████████████████████████████████| 20/20 [05:21<00:00, 16.06s/it]"
     ]
    },
    {
     "name": "stdout",
     "output_type": "stream",
     "text": [
      "[19:08:04] [saved] qa_chainlen_only\\chainlen_vs_L_1759486084.csv\n"
     ]
    },
    {
     "name": "stderr",
     "output_type": "stream",
     "text": [
      "\n"
     ]
    },
    {
     "name": "stdout",
     "output_type": "stream",
     "text": [
      "[19:08:04] [saved] Img/chainlen_scaling_all_cropped.pdf\n",
      "[19:08:04] [fit] slope=0.1221, R^2=0.9683\n"
     ]
    }
   ],
   "source": [
    "import os, time, datetime\n",
    "import numpy as np\n",
    "import pandas as pd\n",
    "import matplotlib.pyplot as plt\n",
    "import networkx as nx\n",
    "import minorminer\n",
    "\n",
    "from dwave.system import DWaveCliqueSampler, DWaveSampler\n",
    "\n",
    "# -----------------------------\n",
    "# Config (set BEFORE any function)\n",
    "# -----------------------------\n",
    "ENDPOINT = os.getenv(\"DWAVE_API_ENDPOINT\", \"https://cloud.dwavesys.com/sapi\")\n",
    "TOKEN    = os.getenv(\"DWAVE_API_TOKEN\", None)  # export DWAVE_API_TOKEN=...\n",
    "SOLVER   = os.getenv(\"DWAVE_SOLVER\", \"Advantage2_system1.6\")\n",
    "\n",
    "# tqdm (fallback if not installed)\n",
    "try:\n",
    "    from tqdm.auto import tqdm\n",
    "except Exception:\n",
    "    def tqdm(x, **kwargs):  # no-op fallback\n",
    "        return x\n",
    "\n",
    "# -----------------------------\n",
    "# Logging\n",
    "# -----------------------------\n",
    "def log(msg):\n",
    "    ts = datetime.datetime.now().strftime(\"%H:%M:%S\")\n",
    "    print(f\"[{ts}] {msg}\", flush=True)\n",
    "\n",
    "# -----------------------------\n",
    "# QPU helpers\n",
    "# -----------------------------\n",
    "def get_qpu(solver=None):\n",
    "    solver = solver or SOLVER\n",
    "    if TOKEN is None:\n",
    "        log(\"WARNING: DWAVE_API_TOKEN not set; DWaveSampler may fail to auth.\")\n",
    "    return DWaveSampler(endpoint=ENDPOINT, token=TOKEN, solver=solver)\n",
    "\n",
    "def get_L_list_from_clique(L_min=8, step=5, solver=None):\n",
    "    \"\"\"Use DWaveCliqueSampler to discover largest clique size (no credits).\"\"\"\n",
    "    solver = solver or SOLVER\n",
    "    if TOKEN is None:\n",
    "        log(\"WARNING: DWAVE_API_TOKEN not set; CliqueSampler may fail to auth.\")\n",
    "    cs = DWaveCliqueSampler(endpoint=ENDPOINT, token=TOKEN, solver=solver)\n",
    "    L_max = getattr(cs, \"largest_clique_size\", None)\n",
    "    if not isinstance(L_max, int) or L_max <= 0:\n",
    "        raise RuntimeError(\"largest_clique_size. Check the Solver.\")\n",
    "    if L_min > L_max:\n",
    "        L_min = L_max\n",
    "    L_list = list(range(L_min, L_max + 1, step)) or [L_max]\n",
    "    log(f\"[L_max] {L_max}  |  [L_list] {L_list} (step={step})\")\n",
    "    return L_list, L_max\n",
    "\n",
    "# -----------------------------\n",
    "# Embedding + chain length\n",
    "# -----------------------------\n",
    "def find_clique_embedding(qpu, L, seed=0, verbose=True):\n",
    "    \"\"\"Manual K_L embedding on the hardware graph using minorminer.\"\"\"\n",
    "    hw = qpu.to_networkx_graph()\n",
    "    K = nx.complete_graph(L)\n",
    "    emb = minorminer.find_embedding(K.edges(), hw.edges(), random_seed=seed)\n",
    "    if not emb:\n",
    "        raise RuntimeError(f\"Embedding failed for K_{L}\")\n",
    "    if verbose:\n",
    "        lens = [len(c) for c in emb.values()]\n",
    "        log(f\"[Embedding-KL] L={L} chains={len(emb)} meanCL={np.mean(lens):.2f} maxCL={np.max(lens)}\")\n",
    "    return emb\n",
    "\n",
    "def chain_lengths_from_embedding(emb):\n",
    "    return np.array([len(c) for c in emb.values()], dtype=int)\n",
    "\n",
    "def mean_chainlen_via_clique(qpu, L, seed=0, verbose=True):\n",
    "    \"\"\"Embed K_L and return (mean_len, max_len, lens-array).\"\"\"\n",
    "    emb  = find_clique_embedding(qpu, L, seed=seed, verbose=False)\n",
    "    lens = chain_lengths_from_embedding(emb)\n",
    "    mean_len = float(np.mean(lens)) if len(lens) else float('nan')\n",
    "    max_len  = int(np.max(lens))    if len(lens) else -1\n",
    "    if verbose:\n",
    "        log(f\"[ChainLen] L={L} meanCL={mean_len:.3f} maxCL={max_len} (chains={len(lens)})\")\n",
    "    return mean_len, max_len, lens\n",
    "\n",
    "# -----------------------------\n",
    "# Build curve + save CSV/figure\n",
    "# -----------------------------\n",
    "def build_chainlen_vs_L(L_list, *, emb_seed_base=0,\n",
    "                        out_dir=\"qa_chainlen_only\",\n",
    "                        save_fig=\"Img/chainlen_scaling_all_cropped.pdf\",\n",
    "                        verbose=True, show_progress=True):\n",
    "    \"\"\"Measure mean chain length vs L using clique embeddings only.\"\"\"\n",
    "    os.makedirs(out_dir, exist_ok=True)\n",
    "    fig_dir = os.path.dirname(save_fig)\n",
    "    if fig_dir:\n",
    "        os.makedirs(fig_dir, exist_ok=True)\n",
    "\n",
    "    qpu = get_qpu()\n",
    "    rows = []\n",
    "\n",
    "    it = tqdm(L_list, disable=not show_progress, desc=\"Clique-embedding (length only)\")\n",
    "    for L in it:\n",
    "        mean_len, max_len, lens = mean_chainlen_via_clique(qpu, L, seed=emb_seed_base+L, verbose=verbose)\n",
    "        rows.append(dict(L=int(L), emb_seed=int(emb_seed_base+L),\n",
    "                         mean_chainlen=mean_len, max_chainlen=max_len, n_chains=len(lens)))\n",
    "\n",
    "    df = pd.DataFrame(rows).sort_values(\"L\").reset_index(drop=True)\n",
    "    ts = int(time.time())\n",
    "    csv_path = os.path.join(out_dir, f\"chainlen_vs_L_{ts}.csv\")\n",
    "    df.to_csv(csv_path, index=False); log(f\"[saved] {csv_path}\")\n",
    "\n",
    "    # ---- Linear regression (numpy) ----\n",
    "    X = df[\"L\"].values.astype(float)\n",
    "    y = df[\"mean_chainlen\"].values.astype(float)\n",
    "    if len(X) >= 2:\n",
    "        a, b = np.polyfit(X, y, 1)  # slope, intercept\n",
    "        y_pred = a * X + b\n",
    "        ss_res = float(np.sum((y - y_pred) ** 2))\n",
    "        ss_tot = float(np.sum((y - np.mean(y)) ** 2))\n",
    "        r2 = 1.0 - ss_res / ss_tot if ss_tot > 0 else 1.0\n",
    "    else:\n",
    "        a, b, r2 = float(\"nan\"), float(\"nan\"), float(\"nan\")\n",
    "        y_pred = y\n",
    "\n",
    "    # ---- Plot (legend shows observed & fit with slope/R^2) ----\n",
    "    plt.rcParams.update({\n",
    "        \"font.size\": 16, \"axes.labelsize\": 18, \"axes.titlesize\": 18,\n",
    "        \"xtick.labelsize\": 16, \"ytick.labelsize\": 16,\n",
    "    })\n",
    "    plt.figure(figsize=(8, 6))\n",
    "    plt.plot(df[\"L\"], df[\"mean_chainlen\"], marker=\"o\", linestyle=\"-\", linewidth=2, label=\"Observed mean\")\n",
    "    plt.plot(df[\"L\"], y_pred, linestyle=\"--\", linewidth=2, label=f\"fit: slope={a:.3f}, $R^2$={r2:.3f}\")\n",
    "    plt.xlabel(\"L (logical variables)\")\n",
    "    plt.ylabel(\"Mean chain length\")\n",
    "    plt.grid(True, linestyle=\"--\", alpha=0.6)\n",
    "    plt.legend()\n",
    "    plt.tight_layout()\n",
    "    #plt.savefig(save_fig, bbox_inches=\"tight\", dpi=160); log(f\"[saved] {save_fig}\")\n",
    "    #plt.close()\n",
    "\n",
    "    return dict(df=df, csv_path=csv_path, fig_path=save_fig, slope=a, intercept=b, r2=r2)\n",
    "\n",
    "# -----------------------------\n",
    "# Main\n",
    "# -----------------------------\n",
    "if __name__ == \"__main__\":\n",
    "    # 0) L candidates by clique size (no credits)\n",
    "    L_list, L_max = get_L_list_from_clique(L_min=5, step=5, solver=SOLVER)\n",
    "\n",
    "    # 1) Measure only chain length vs L (no sampling)\n",
    "    res = build_chainlen_vs_L(\n",
    "        L_list,\n",
    "        emb_seed_base=0,\n",
    "        out_dir=\"qa_chainlen_only\",\n",
    "        #save_fig=\"Img/chainlen_scaling_all_cropped.pdf\",\n",
    "        verbose=True,\n",
    "        show_progress=True,\n",
    "    )\n",
    "    log(f\"[fit] slope={res['slope']:.4f}, R^2={res['r2']:.4f}\")\n"
   ]
  },
  {
   "cell_type": "code",
   "execution_count": null,
   "id": "09659a19-8a98-4d1e-83da-9bec7966ae19",
   "metadata": {},
   "outputs": [],
   "source": []
  },
  {
   "cell_type": "code",
   "execution_count": null,
   "id": "eb9fa8ce-8d69-4eeb-9b51-5351b97035c2",
   "metadata": {},
   "outputs": [],
   "source": []
  }
 ],
 "metadata": {
  "kernelspec": {
   "display_name": "Python 3 (ipykernel)",
   "language": "python",
   "name": "python3"
  },
  "language_info": {
   "codemirror_mode": {
    "name": "ipython",
    "version": 3
   },
   "file_extension": ".py",
   "mimetype": "text/x-python",
   "name": "python",
   "nbconvert_exporter": "python",
   "pygments_lexer": "ipython3",
   "version": "3.10.14"
  }
 },
 "nbformat": 4,
 "nbformat_minor": 5
}
